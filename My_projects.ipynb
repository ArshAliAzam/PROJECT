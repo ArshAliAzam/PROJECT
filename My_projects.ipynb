{
  "nbformat": 4,
  "nbformat_minor": 0,
  "metadata": {
    "colab": {
      "provenance": [],
      "authorship_tag": "ABX9TyMEX6QtsHWlkBBe131L6VVR",
      "include_colab_link": true
    },
    "kernelspec": {
      "name": "python3",
      "display_name": "Python 3"
    },
    "language_info": {
      "name": "python"
    }
  },
  "cells": [
    {
      "cell_type": "markdown",
      "metadata": {
        "id": "view-in-github",
        "colab_type": "text"
      },
      "source": [
        "<a href=\"https://colab.research.google.com/github/ArshAliAzam/PROJECT/blob/main/My_projects.ipynb\" target=\"_parent\"><img src=\"https://colab.research.google.com/assets/colab-badge.svg\" alt=\"Open In Colab\"/></a>"
      ]
    },
    {
      "cell_type": "code",
      "execution_count": null,
      "metadata": {
        "id": "lZmL7XaOBABG"
      },
      "outputs": [],
      "source": [
        "😂😂𝕞𝕪 𝕡𝕣𝕠𝕛𝕖𝕔𝕥😂😂\n",
        "company=56100\n",
        "developer=9\n",
        "print(f\"Each developer earn:{company // developer}\")\n",
        "❤️❤️❤️𝓜𝔂 𝓯𝓲𝓻𝓼𝓽 𝓹𝓻𝓸𝓳𝓮𝓬𝓽❤️❤️❤️\n",
        "pages_of_book=1890\n",
        "chapters=30\n",
        "print(f\"Pages of each chapter:{pages_of_book // chapters}\")\n",
        "💚💙💜★🎀𝓶𝔂 𝓼𝓮𝓬𝓸𝓷𝓭 𝓹𝓻𝓸𝓳𝓮𝓬𝓽🎀★❤️🧡💛\n",
        "special_people=20\n",
        "people=200\n",
        "kids=93\n",
        "not_coming=50\n",
        "per_person_biryani=240\n",
        "\n",
        "total_people=special_people + people + kids\n",
        "print(f\"total people : {total_people}\")\n",
        "\n",
        "total_coming_people=total_people - not_coming\n",
        "print(f\"total coming people: {total_coming_people}\")\n",
        "\n",
        "total_biryani_g=total_coming_people * per_person_biryani\n",
        "\n",
        "print(f\"total biryani g:{total_biryani_g}g\")\n",
        "\n",
        "total_biryani_kg= total_biryani_g // 1000\n",
        "\n",
        "print(f\"total biryani kg:{total_biryani_kg}kg\")\n",
        "☠️😵☠️𝖒𝖞 𝖙𝖍𝖎𝖗𝖉 𝖕𝖗𝖔𝖏𝖊𝖈𝖙☠️😵☠️\n",
        "faculty=353\n",
        "special_guest=94\n",
        "dancer=100\n",
        "absent=48\n",
        "per_person_kheer=230\n",
        "per_person_rabri=260\n",
        "\n",
        "total_people=faculty + special_guest + dancer\n",
        "print(f\"total people:{total_people}\")\n",
        "\n",
        "total_coming_people=total_people - absent\n",
        "print(f\"total coming people:{total_coming_people}\")\n",
        "\n",
        "total_kheer_g=total_coming_people * per_person_kheer\n",
        "print(f\"total kheer:{total_kheer_g}g\")\n",
        "\n",
        "total_kheer_kg=total_kheer_g // 1000\n",
        "print(f\"total kheer:{total_kheer_kg}kg\")\n",
        "\n",
        "total_rabri_g=total_coming_people * per_person_rabri\n",
        "print(f\"total rabri:{total_rabri_g}g\")\n",
        "\n",
        "total_rabri_kg=total_rabri_g // 1000\n",
        "print(f\"total rabri:{total_rabri_kg}kg\")\n"
      ]
    }
  ]
}